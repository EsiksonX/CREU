{
 "cells": [
  {
   "cell_type": "code",
   "id": "23242263",
   "metadata": {
    "ExecuteTime": {
     "end_time": "2025-01-22T03:31:50.344530Z",
     "start_time": "2025-01-22T03:31:48.510168Z"
    }
   },
   "source": [
    "import pandas as pd\n",
    "import numpy as np\n",
    "import matplotlib.pyplot as plt\n",
    "import pickle\n",
    "import nltk\n",
    "from nltk.tokenize import RegexpTokenizer"
   ],
   "outputs": [],
   "execution_count": 1
  },
  {
   "cell_type": "code",
   "id": "653c2d11",
   "metadata": {
    "ExecuteTime": {
     "end_time": "2025-01-22T03:31:54.120730Z",
     "start_time": "2025-01-22T03:31:51.105905Z"
    }
   },
   "source": [
    "# Load rating file\n",
    "df_ratings = pd.read_csv('./ratings.dat', sep='::', engine='python', names=['user_id', 'item_id', 'rating', 'time_stamp'])"
   ],
   "outputs": [],
   "execution_count": 2
  },
  {
   "cell_type": "code",
   "id": "fea27d8c",
   "metadata": {
    "ExecuteTime": {
     "end_time": "2025-01-22T03:34:04.791361Z",
     "start_time": "2025-01-22T03:34:04.629475Z"
    }
   },
   "source": [
    "# # Load user and item file, join with rating\n",
    "# df_user = pd.read_csv('./users.dat', sep='::', engine='python', names=['user_id', 'gender', 'age', 'occupation', 'zip-code'])\n",
    "# df_item = pd.read_csv('./movies.dat', sep='::', engine='python', names=['item_id', 'title', 'genres'])\n",
    "# df_ratings = df_ratings.join(df_user.set_index('user_id'), on='user_id')\n",
    "# df_ratings = df_ratings.join(df_item.set_index('item_id'), on='item_id')\n",
    "\n",
    "# Load user and item file with latin1 encoding\n",
    "df_user = pd.read_csv('./users.dat', sep='::', engine='python', names=['user_id', 'gender', 'age', 'occupation', 'zip-code'], encoding='latin1')\n",
    "df_item = pd.read_csv('./movies.dat', sep='::', engine='python', names=['item_id', 'title', 'genres'], encoding='latin1')\n",
    "df_ratings = df_ratings.join(df_user.set_index('user_id'), on='user_id')\n",
    "df_ratings = df_ratings.join(df_item.set_index('item_id'), on='item_id')"
   ],
   "outputs": [],
   "execution_count": 4
  },
  {
   "cell_type": "code",
   "id": "d59c300a",
   "metadata": {
    "ExecuteTime": {
     "end_time": "2025-01-22T03:34:08.999787Z",
     "start_time": "2025-01-22T03:34:08.746402Z"
    }
   },
   "source": [
    "# Preprocess rating and gender\n",
    "df_ratings['rating'] = df_ratings['rating'].map(lambda x: 0 if x < 4 else 1)\n",
    "df_ratings['gender'] = df_ratings['gender'].map(lambda x: 0 if x == 'F' else 1)"
   ],
   "outputs": [],
   "execution_count": 5
  },
  {
   "cell_type": "code",
   "id": "204cf805",
   "metadata": {
    "ExecuteTime": {
     "end_time": "2025-01-22T03:34:10.070485Z",
     "start_time": "2025-01-22T03:34:09.876667Z"
    }
   },
   "source": [
    "# Preprocess zip-code\n",
    "zip_codes = list(set(df_ratings['zip-code']))\n",
    "print(\"number of zip code: {}, number of users: {}\".format(len(zip_codes), len(set(df_ratings['user_id']))))\n",
    "zip_code2idx = {}\n",
    "for idx, value in enumerate(zip_codes):\n",
    "    zip_code2idx[value] = idx\n",
    "df_ratings['zip-code'] = df_ratings['zip-code'].map(lambda x: zip_code2idx[x])"
   ],
   "outputs": [
    {
     "name": "stdout",
     "output_type": "stream",
     "text": [
      "number of zip code: 3439, number of users: 6040\n"
     ]
    }
   ],
   "execution_count": 6
  },
  {
   "cell_type": "code",
   "id": "13411387",
   "metadata": {
    "ExecuteTime": {
     "end_time": "2025-01-22T03:34:11.776660Z",
     "start_time": "2025-01-22T03:34:11.544914Z"
    }
   },
   "source": [
    "# Preprocess year\n",
    "titles = df_ratings['title']\n",
    "\n",
    "years = [title[-5:-1] for title in titles]\n",
    "year_set = list(set(years))\n",
    "year_set.sort()\n",
    "year2idx = {y: idx for idx, y in enumerate(year_set)}\n",
    "years = [year2idx[y] for y in years]\n",
    "df_ratings['year'] = years"
   ],
   "outputs": [],
   "execution_count": 7
  },
  {
   "cell_type": "code",
   "id": "646d37be",
   "metadata": {
    "ExecuteTime": {
     "end_time": "2025-01-22T03:34:14.372398Z",
     "start_time": "2025-01-22T03:34:12.781834Z"
    }
   },
   "source": [
    "# Preprocess genre\n",
    "genres = df_ratings['genres']\n",
    "genre2idx = {}\n",
    "cnt = 1\n",
    "res_genre = []\n",
    "max_genre_len = 0\n",
    "for genre in list(genres):\n",
    "    l = genre.split('|')\n",
    "    max_genre_len = max_genre_len if max_genre_len > len(l) else len(l)\n",
    "    for e in l:\n",
    "        if e not in genre2idx:\n",
    "            genre2idx[e] = cnt\n",
    "            cnt += 1\n",
    "    res_genre.append([genre2idx[e] for e in l])\n",
    "for genre in res_genre:\n",
    "    genre.extend([0 for i in range(max_genre_len - len(genre))])\n",
    "df_ratings['genres'] = res_genre"
   ],
   "outputs": [],
   "execution_count": 8
  },
  {
   "cell_type": "code",
   "id": "dbcd73e9",
   "metadata": {
    "ExecuteTime": {
     "end_time": "2025-01-22T03:34:18.489497Z",
     "start_time": "2025-01-22T03:34:14.378919Z"
    }
   },
   "source": [
    "# Preprocess titles\n",
    "tokenizer = RegexpTokenizer(r'\\w+')\n",
    "titles = df_ratings['title']\n",
    "tokenized_titles = []\n",
    "titles = [tokenizer.tokenize(str(title[:-6])) for title in list(titles)]\n",
    "vocab = []\n",
    "max_title_len = 0\n",
    "for title in titles:\n",
    "    vocab += title\n",
    "    max_title_len = max_title_len if max_title_len > len(title) else len(title)\n",
    "vocab = set(vocab)\n",
    "word2idx = {word: idx for idx, word in enumerate(vocab)}\n",
    "res_title = []\n",
    "for title in titles:\n",
    "    padding_title = [word2idx[word] for word in title]\n",
    "    padding_title.extend([0 for i in range(max_title_len - len(title))])\n",
    "    res_title.append(padding_title)\n",
    "df_ratings['title'] = res_title"
   ],
   "outputs": [],
   "execution_count": 9
  },
  {
   "cell_type": "code",
   "id": "e105dfc5",
   "metadata": {
    "ExecuteTime": {
     "end_time": "2025-01-22T03:34:21.785110Z",
     "start_time": "2025-01-22T03:34:21.018070Z"
    }
   },
   "source": [
    "# Reorder the columns \n",
    "orders = ['user_id', 'gender', 'age', 'occupation', 'zip-code', 'item_id', 'year', 'title', 'genres', 'time_stamp', 'rating']\n",
    "df_ratings = df_ratings[orders]\n",
    "description = [\n",
    "    ('user_id', 1 + np.max(df_ratings['user_id']), 'spr'),\n",
    "    ('gender', 1 + np.max(df_ratings['gender']), 'spr'),\n",
    "    ('age', 1 + np.max(df_ratings['age']), 'spr'),\n",
    "    ('occupation', 1 + np.max(df_ratings['occupation']), 'spr'),\n",
    "    ('zip-code', 1 + np.max(df_ratings['zip-code']), 'spr'),\n",
    "    ('item_id', 1 + np.max(df_ratings['item_id']), 'spr'),\n",
    "    ('year', 1 + np.max(df_ratings['year']), 'spr'),\n",
    "    ('title', 1 + np.max(list(df_ratings['title'])), 'seq'),\n",
    "    ('genres', 1 + np.max(list(df_ratings['genres'])), 'seq'),\n",
    "    ('time_stamp', -1, 'ctn'),\n",
    "    ('rating', 2, 'label'),\n",
    "    ('count', -1, 'ctn')\n",
    "]\n",
    "description"
   ],
   "outputs": [
    {
     "data": {
      "text/plain": [
       "[('user_id', 6041, 'spr'),\n",
       " ('gender', 2, 'spr'),\n",
       " ('age', 57, 'spr'),\n",
       " ('occupation', 21, 'spr'),\n",
       " ('zip-code', 3439, 'spr'),\n",
       " ('item_id', 3953, 'spr'),\n",
       " ('year', 81, 'spr'),\n",
       " ('title', 4373, 'seq'),\n",
       " ('genres', 19, 'seq'),\n",
       " ('time_stamp', -1, 'ctn'),\n",
       " ('rating', 2, 'label'),\n",
       " ('count', -1, 'ctn')]"
      ]
     },
     "execution_count": 10,
     "metadata": {},
     "output_type": "execute_result"
    }
   ],
   "execution_count": 10
  },
  {
   "cell_type": "code",
   "id": "b891ed5e",
   "metadata": {
    "ExecuteTime": {
     "end_time": "2025-01-22T03:34:25.747664Z",
     "start_time": "2025-01-22T03:34:25.441058Z"
    }
   },
   "source": [
    "# Preprocess timestamp\n",
    "min_time_stamp = np.min(df_ratings['time_stamp'])\n",
    "max_time_stamp = np.max(df_ratings['time_stamp'])\n",
    "\n",
    "df_ratings['time_stamp'] = df_ratings['time_stamp'].map(lambda x: (x - min_time_stamp)/(max_time_stamp - min_time_stamp))\n",
    "df_ratings = df_ratings.sort_values(by='time_stamp')"
   ],
   "outputs": [],
   "execution_count": 11
  },
  {
   "cell_type": "code",
   "id": "d8f3cb23",
   "metadata": {
    "ExecuteTime": {
     "end_time": "2025-01-22T03:34:28.624065Z",
     "start_time": "2025-01-22T03:34:28.501077Z"
    }
   },
   "source": [
    "# plot item counts vs item\n",
    "user2count = df_ratings.groupby(['item_id']).size().reset_index(name='count').sort_values(by='count')\n",
    "item_ids = list(user2count['item_id'])\n",
    "counts = np.array(user2count['count'])\n",
    "plt.plot(np.arange(len(counts)), counts)"
   ],
   "outputs": [
    {
     "data": {
      "text/plain": [
       "[<matplotlib.lines.Line2D at 0x21bf44ad7d0>]"
      ]
     },
     "execution_count": 12,
     "metadata": {},
     "output_type": "execute_result"
    },
    {
     "data": {
      "text/plain": [
       "<Figure size 640x480 with 1 Axes>"
      ],
      "image/png": "[encoded data removed]"
     },
     "metadata": {},
     "output_type": "display_data"
    }
   ],
   "execution_count": 12
  },
  {
   "cell_type": "code",
   "id": "ee135615",
   "metadata": {
    "ExecuteTime": {
     "end_time": "2025-01-22T03:34:39.074179Z",
     "start_time": "2025-01-22T03:34:38.760366Z"
    }
   },
   "source": [
    "# Preprocess count\n",
    "df_ratings = df_ratings.join(user2count.set_index('item_id'), on='item_id')\n",
    "min_count = np.min(df_ratings['count'])\n",
    "max_count = np.max(df_ratings['count'])\n",
    "df_ratings['count'] = df_ratings['count'].map(lambda x: (x - min_count)/(max_count - min_count))"
   ],
   "outputs": [],
   "execution_count": 13
  },
  {
   "cell_type": "code",
   "execution_count": 13,
   "id": "acae23f2",
   "metadata": {},
   "outputs": [],
   "source": [
    "def split_0():\n",
    "    # split train, test, validation dataset\n",
    "    user2count = df_ratings.groupby(['item_id']).size().reset_index(name='count').sort_values(by='count')\n",
    "    item_ids = list(user2count['item_id'])\n",
    "    counts = np.array(user2count['count'])\n",
    "\n",
    "    itemid_group = df_ratings.groupby('item_id')\n",
    "    # split insufficient and sufficient items\n",
    "    item_ids = item_ids[870:] # select items with more than 30 samples\n",
    "    cold_items = item_ids[:int(len(item_ids) * 0.2)] # choose the 20% items at tail as cold items\n",
    "    warm_items = item_ids[int(len(item_ids) * 0.2):] # choose the 80% items at head as warm items\n",
    "\n",
    "    train_a = pd.DataFrame()\n",
    "    train_b = pd.DataFrame()\n",
    "    train_c = pd.DataFrame()\n",
    "    val_a_cold, val_a_warm = pd.DataFrame(), pd.DataFrame()\n",
    "    val_b_cold, val_b_warm = pd.DataFrame(), pd.DataFrame()\n",
    "    val_c_cold, val_c_warm = pd.DataFrame(), pd.DataFrame()\n",
    "    test_cold, test_warm = pd.DataFrame(), pd.DataFrame()\n",
    "\n",
    "    for item_id in cold_items:\n",
    "        df_samples = itemid_group.get_group(item_id).sort_values(by='time_stamp')\n",
    "        size = len(df_samples)\n",
    "        train_a = train_a.append(df_samples.iloc[:(size * 8 // 30)], ignore_index=True)\n",
    "        val_a_cold = val_a_cold.append(df_samples.iloc[(size * 8 // 30):(size * 9 // 30)], ignore_index=True)\n",
    "        train_b = train_b.append(df_samples.iloc[(size * 9 // 30):(size * 17 // 30)], ignore_index=True)\n",
    "        val_b_cold = val_b_cold.append(df_samples.iloc[(size * 17 // 30):(size * 18 // 30)], ignore_index=True)\n",
    "        train_c = train_c.append(df_samples.iloc[(size * 18 // 30):(size * 26 // 30)], ignore_index=True)\n",
    "        val_c_cold = val_c_cold.append(df_samples.iloc[(size * 26 // 30):(size * 27 // 30)], ignore_index=True)\n",
    "        test_cold = test_cold.append(df_samples.iloc[(size * 27 // 30):], ignore_index=True)\n",
    "\n",
    "    for item_id in warm_items:\n",
    "        df_samples = itemid_group.get_group(item_id).sort_values(by='time_stamp')\n",
    "        size = len(df_samples)\n",
    "        train_a = train_a.append(df_samples.iloc[:(size * 8 // 30)], ignore_index=True)\n",
    "        val_a_warm = val_a_warm.append(df_samples.iloc[(size * 8 // 30):(size * 9 // 30)], ignore_index=True)\n",
    "        train_b = train_b.append(df_samples.iloc[(size * 9 // 30):(size * 17 // 30)], ignore_index=True)\n",
    "        val_b_warm = val_b_warm.append(df_samples.iloc[(size * 17 // 30):(size * 18 // 30)], ignore_index=True)\n",
    "        train_c = train_c.append(df_samples.iloc[(size * 18 // 30):(size * 26 // 30)], ignore_index=True)\n",
    "        val_c_warm = val_c_warm.append(df_samples.iloc[(size * 26 // 30):(size * 27 // 30)], ignore_index=True)\n",
    "        test_warm = test_warm.append(df_samples.iloc[(size * 27 // 30):], ignore_index=True)\n",
    "\n",
    "    print(\"cold item number: {}; warm item number: {}\".format(len(cold_items), len(warm_items)))\n",
    "    print(\"train_a size: \", len(train_a))\n",
    "    print(\"train_b size: \", len(train_b))\n",
    "    print(\"train_c size: \", len(train_c))\n",
    "    print(\"val_a_cold size: \", len(val_a_cold))\n",
    "    print(\"val_b_cold size: \", len(val_b_cold))\n",
    "    print(\"val_c_cold size: \", len(val_c_cold))\n",
    "    print(\"val_a_warm size: \", len(val_a_warm))\n",
    "    print(\"val_b_warm size: \", len(val_b_warm))\n",
    "    print(\"val_c_warm size: \", len(val_c_warm))\n",
    "    print(\"test_cold size: \", len(test_cold))\n",
    "    print(\"test_warm size: \", len(test_warm))\n",
    "\n",
    "    save_dic = {\n",
    "        'train_a': train_a,\n",
    "        'train_b': train_b,\n",
    "        'train_c': train_c,\n",
    "        'val_a_cold': val_a_cold,\n",
    "        'val_a_warm': val_a_warm,\n",
    "        'val_b_cold': val_b_cold,\n",
    "        'val_b_warm': val_b_warm,\n",
    "        'val_c_cold': val_c_cold,\n",
    "        'val_c_warm': val_c_warm,\n",
    "        'test_cold': test_cold,\n",
    "        'test_warm': test_warm,\n",
    "        'params': {\n",
    "            'sparse_feature_dims': sparse_feature_dims,\n",
    "            'continuous_feature_num': continuous_feature_num,\n",
    "            'seq_feature_vocab_size': [title_vocab_size, genre_vocab_size]\n",
    "        }\n",
    "    }\n",
    "    with open('./cold_start/preprocess_ml-1M.pkl', 'bw+') as f:\n",
    "        pickle.dump(save_dic, f)\n",
    "\n",
    "    # Check the validation of data saved to file\n",
    "    with open('./cold_start/preprocess_ml-1M.pkl', 'br+') as f:\n",
    "        data = pickle.load(f)\n",
    "    for key in data.keys():\n",
    "        if key != 'params':\n",
    "            assert data[key].equals(save_dic[key])\n",
    "        else:\n",
    "            assert data['params'] == save_dic['params']"
   ]
  },
  {
   "cell_type": "code",
   "execution_count": 14,
   "id": "5f88bcf3",
   "metadata": {},
   "outputs": [],
   "source": [
    "def split_1():\n",
    "    df_ratings = df_ratings.sample(frac=1).reset_index(drop=True)\n",
    "    train_df = df_ratings.iloc[:int(len(df_ratings)*0.8), :]\n",
    "    val_df = df_ratings.iloc[int(len(df_ratings)*0.8):int(len(df_ratings)*0.9), :]\n",
    "    test_df = df_ratings.iloc[int(len(df_ratings)*0.9):, :]\n",
    "    save_dic = {\n",
    "        'train': train_df,\n",
    "        'val': val_df,\n",
    "        'test': test_df,\n",
    "        'params': {\n",
    "            'sparse_feature_dims': sparse_feature_dims,\n",
    "            'continuous_feature_num': continuous_feature_num,\n",
    "            'seq_feature_vocab_size': [title_vocab_size, genre_vocab_size]\n",
    "        }\n",
    "    }\n",
    "    with open('./normal_preprocess_ml-1M.pkl', 'bw+') as f:\n",
    "        pickle.dump(save_dic, f)"
   ]
  },
  {
   "cell_type": "code",
   "id": "183f6ab2",
   "metadata": {
    "ExecuteTime": {
     "end_time": "2025-01-22T03:35:50.110256Z",
     "start_time": "2025-01-22T03:35:50.104247Z"
    }
   },
   "source": [
    "def split_2(df_ratings, description, N = 200, K = 20):\n",
    "    user2count = df_ratings.groupby(['item_id']).size().reset_index(name='count').sort_values(by='count')\n",
    "    item_ids = list(user2count['item_id'])\n",
    "    counts = np.array(user2count['count'])\n",
    "\n",
    "    item_ids, counts = np.asarray(item_ids), np.asarray(counts)\n",
    "    hot_item_ids = item_ids[counts > N]\n",
    "    cold_item_ids = item_ids[np.logical_and(counts <= N, counts >= 3 * K)]\n",
    "    item_group = df_ratings.groupby('item_id')\n",
    "    train_base = pd.DataFrame()\n",
    "    for item_id in hot_item_ids:\n",
    "        df_hot = item_group.get_group(item_id).sort_values(by='time_stamp')\n",
    "        # train_base = train_base.append(df_hot, ignore_index=True)\n",
    "        dfs = [train_base, df_hot]\n",
    "        train_base = pd.concat(dfs, ignore_index=True)\n",
    "    train_warm_a, train_warm_b, train_warm_c, test = pd.DataFrame(), pd.DataFrame(), pd.DataFrame(), pd.DataFrame()\n",
    "    for item_id in cold_item_ids:\n",
    "        df_cold = item_group.get_group(item_id).sort_values(by='time_stamp')\n",
    "        # train_warm_a = train_warm_a.append(df_cold[: K], ignore_index=True)\n",
    "        # train_warm_b = train_warm_b.append(df_cold[K: 2*K], ignore_index=True)\n",
    "        # train_warm_c = train_warm_c.append(df_cold[2*K: 3*K], ignore_index=True)\n",
    "        # test = test.append(df_cold[3*K:], ignore_index=True)\n",
    "        train_warm_a = pd.concat([train_warm_a, df_cold[:K]], ignore_index=True)\n",
    "        train_warm_b = pd.concat([train_warm_b, df_cold[K: 2*K]], ignore_index=True)\n",
    "        train_warm_c = pd.concat([train_warm_c, df_cold[2*K: 3*K]], ignore_index=True)\n",
    "        test = pd.concat([test, df_cold[3*K:]], ignore_index=True)\n",
    "    save_dic = {\n",
    "        'train_base': train_base.sort_values('time_stamp'),\n",
    "        'train_warm_a': train_warm_a.sort_values('time_stamp'),\n",
    "        'train_warm_b': train_warm_b.sort_values('time_stamp'),\n",
    "        'train_warm_c': train_warm_c.sort_values('time_stamp'),\n",
    "        'test': test.sort_values('time_stamp'),\n",
    "        'description': description\n",
    "    }\n",
    "    for name, df in save_dic.items():\n",
    "        print(\"{} size: {}\".format(name, len(df)))\n",
    "    with open('./emb_warm_split_preprocess_ml-1M.pkl', 'bw+') as f:\n",
    "        pickle.dump(save_dic, f)"
   ],
   "outputs": [],
   "execution_count": 17
  },
  {
   "cell_type": "code",
   "id": "9f45aaf5",
   "metadata": {
    "ExecuteTime": {
     "end_time": "2025-01-22T03:36:54.150841Z",
     "start_time": "2025-01-22T03:36:30.401099Z"
    }
   },
   "source": [
    "split_2(df_ratings, description)"
   ],
   "outputs": [
    {
     "name": "stdout",
     "output_type": "stream",
     "text": [
      "train_base size: 854530\n",
      "train_warm_a size: 19440\n",
      "train_warm_b size: 19440\n",
      "train_warm_c size: 19440\n",
      "test size: 58409\n",
      "description size: 12\n"
     ]
    }
   ],
   "execution_count": 19
  },
  {
   "cell_type": "code",
   "id": "e44e906d",
   "metadata": {
    "ExecuteTime": {
     "end_time": "2025-01-22T03:38:00.511703Z",
     "start_time": "2025-01-22T03:37:33.692965Z"
    }
   },
   "source": [
    "# Get training data for Meta-Embedding method\n",
    "with open('./emb_warm_split_preprocess_ml-1M.pkl', 'rb+') as f:\n",
    "    data = pickle.load(f)\n",
    "df_base = data['train_base']\n",
    "item2group = df_base.groupby('item_id')\n",
    "train_a, train_b, train_c, train_d = pd.DataFrame(), pd.DataFrame(), pd.DataFrame(), pd.DataFrame()\n",
    "for item_id, df_group in item2group:\n",
    "    l, e = df_group.shape[0], df_group.shape[0] // 4     \n",
    "    # train_a = train_a.append(df_group.iloc[0: e,], ignore_index=True)\n",
    "    # train_b = train_b.append(df_group.iloc[e: 2 * e, ], ignore_index=True)\n",
    "    # train_c = train_c.append(df_group.iloc[2 * e: 3 * e, ], ignore_index=True)\n",
    "    # train_d = train_d.append(df_group.iloc[3 * e: 4 * e, ], ignore_index=True)\n",
    "    train_a = pd.concat([train_a, df_group.iloc[0: e,]], ignore_index=True)\n",
    "    train_b = pd.concat([train_b, df_group.iloc[e: 2 * e,]], ignore_index=True)\n",
    "    train_c = pd.concat([train_c, df_group.iloc[2 * e: 3 * e,]], ignore_index=True)\n",
    "    train_d = pd.concat([train_d, df_group.iloc[3 * e: 4 * e,]], ignore_index=True)\n",
    "shuffle_idx = np.random.permutation(train_a.shape[0])\n",
    "train_a = train_a.iloc[shuffle_idx]\n",
    "train_b = train_b.iloc[shuffle_idx]\n",
    "train_c = train_c.iloc[shuffle_idx]\n",
    "train_d = train_d.iloc[shuffle_idx]\n",
    "data[\"metaE_a\"] = train_a\n",
    "data[\"metaE_b\"] = train_b\n",
    "data[\"metaE_c\"] = train_c\n",
    "data[\"metaE_d\"] = train_d\n",
    "with open('./movielens1M_data.pkl', 'wb+') as f:\n",
    "    pickle.dump(data, f)"
   ],
   "outputs": [],
   "execution_count": 21
  },
  {
   "cell_type": "code",
   "execution_count": null,
   "id": "bb1ca7fa",
   "metadata": {},
   "outputs": [],
   "source": []
  }
 ],
 "metadata": {
  "kernelspec": {
   "display_name": "Python 3 (ipykernel)",
   "language": "python",
   "name": "python3"
  },
  "language_info": {
   "codemirror_mode": {
    "name": "ipython",
    "version": 3
   },
   "file_extension": ".py",
   "mimetype": "text/x-python",
   "name": "python",
   "nbconvert_exporter": "python",
   "pygments_lexer": "ipython3",
   "version": "3.8.8"
  }
 },
 "nbformat": 4,
 "nbformat_minor": 5
}
